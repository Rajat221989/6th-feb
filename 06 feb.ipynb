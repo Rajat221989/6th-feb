{
 "cells": [
  {
   "cell_type": "markdown",
   "id": "fd51d63d-6b3a-4bea-a7ff-dfd91700ad52",
   "metadata": {},
   "source": [
    "Q1. Create a function which will take a list as an argument and return the product of all the numbers\n",
    "after creating a flat list.\n",
    "Use the below-given list as an argument for your function.\n",
    "list1 = [1,2,3,4, [44,55,66, True], False, (34,56,78,89,34), {1,2,3,3,2,1}, {1:34, \"key2\": [55, 67, 78, 89], 4: (45,\n",
    "22, 61, 34)}, [56, 'data science'], 'Machine Learning']"
   ]
  },
  {
   "cell_type": "code",
   "execution_count": 2,
   "id": "d21bfeac-7ad3-4ca8-9681-3767faab6d6d",
   "metadata": {},
   "outputs": [],
   "source": [
    "A=[1,2,3,4, [44,55,66, True], False, (34,56,78,89,34), {1,2,3,3,2,1}, {1:34, \"key2\": [55, 67, 78, 89], 4: (45, 22, 61, 34)}, [56, 'data science'], 'Machine Learning']"
   ]
  },
  {
   "cell_type": "code",
   "execution_count": 23,
   "id": "9b15061a-cd2e-4fb6-82cc-edae6ce35220",
   "metadata": {},
   "outputs": [],
   "source": [
    "def flat(a):\n",
    "    l1=[]\n",
    "    for i in a:\n",
    "        if type(i)==list:\n",
    "            for j in i:\n",
    "                l1.append(j)\n",
    "        elif type(i)==dict:\n",
    "                for k in i:\n",
    "                    l1.append(k)\n",
    "        elif type(i)==tuple:\n",
    "            for p in i:\n",
    "                l1.append(p)\n",
    "            \n",
    "        else:\n",
    "            if type(i)==int:\n",
    "                l1.append(i)\n",
    "    return l1 \n",
    "def flat2(flat):\n",
    "    l2=[]\n",
    "    for i in flat:\n",
    "        if type(i)==int:\n",
    "            l2.append(i)\n",
    "    return l2     \n",
    "def multiply_lis(b):\n",
    "    prod=1\n",
    "    for i in b:\n",
    "        if type(i)==int:\n",
    "            prod=prod*i\n",
    "        \n",
    "    return prod "
   ]
  },
  {
   "cell_type": "code",
   "execution_count": 24,
   "id": "86b4553f-eb25-4f58-bda2-b29ef7fde2a2",
   "metadata": {},
   "outputs": [
    {
     "data": {
      "text/plain": [
       "385877123104112640"
      ]
     },
     "execution_count": 24,
     "metadata": {},
     "output_type": "execute_result"
    }
   ],
   "source": [
    "multiply_lis(flat2(flat(A)))"
   ]
  },
  {
   "cell_type": "markdown",
   "id": "77060bd6-5046-4dbc-b496-33ffa4e547c3",
   "metadata": {},
   "source": [
    "Q2. Write a python program for encrypting a message sent to you by your friend. The logic of encryption\n",
    "should be such that, for a the output should be z. For b, the output should be y. For c, the output should\n",
    "be x respectively. Also, the whitespace should be replaced with a dollar sign. Keep the punctuation\n",
    "marks unchanged.\n",
    "Input Sentence: I want to become a Data Scientist.\n",
    "Encrypt the above input sentence using the program you just created."
   ]
  },
  {
   "cell_type": "code",
   "execution_count": null,
   "id": "52dbc96b-95ee-44f2-8a5f-a55a604d92ef",
   "metadata": {},
   "outputs": [],
   "source": [
    "from functools import Replace"
   ]
  },
  {
   "cell_type": "code",
   "execution_count": null,
   "id": "74871fbb-fb3d-43b4-b740-7aefd6677c96",
   "metadata": {},
   "outputs": [],
   "source": [
    "message=\"I want to become a Data Scientist\"\n",
    "char_repl={\"a\":\"z\",\"b\":\"y\",\"c\":\"x\",\" \":\"$\"}\n",
    "for i in char_repl.key():\n",
    "    message=message.replace(i,char_repl[char])\n",
    "    Print(message)"
   ]
  },
  {
   "cell_type": "code",
   "execution_count": null,
   "id": "2f1164a3-9938-4884-8ba8-06aa94d1c462",
   "metadata": {},
   "outputs": [],
   "source": []
  }
 ],
 "metadata": {
  "kernelspec": {
   "display_name": "Python 3 (ipykernel)",
   "language": "python",
   "name": "python3"
  },
  "language_info": {
   "codemirror_mode": {
    "name": "ipython",
    "version": 3
   },
   "file_extension": ".py",
   "mimetype": "text/x-python",
   "name": "python",
   "nbconvert_exporter": "python",
   "pygments_lexer": "ipython3",
   "version": "3.10.8"
  }
 },
 "nbformat": 4,
 "nbformat_minor": 5
}
